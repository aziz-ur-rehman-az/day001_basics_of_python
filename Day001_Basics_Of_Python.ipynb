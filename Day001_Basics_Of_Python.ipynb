{
 "cells": [
  {
   "cell_type": "markdown",
   "metadata": {},
   "source": [
    "# Python Tutorial \n",
    "## Basics of Python | Day-1 \n",
    "This notebook include all the basics of python like what are comments, variables, loops, if statements, operators, and much more."
   ]
  },
  {
   "cell_type": "markdown",
   "metadata": {},
   "source": [
    "## 30 Years old programming languages | Develop in 1980 | Now from 1991 to 2021 \n",
    "## Crator of python : Guido van Rossum from Netherlands"
   ]
  },
  {
   "cell_type": "markdown",
   "metadata": {},
   "source": [
    "### 1. First Line Of Code"
   ]
  },
  {
   "cell_type": "code",
   "execution_count": 1,
   "metadata": {},
   "outputs": [
    {
     "name": "stdout",
     "output_type": "stream",
     "text": [
      "Hello World\n",
      "6\n"
     ]
    }
   ],
   "source": [
    "# print function is used for output\n",
    "print(\"Hello World\")\n",
    "print(2+4)"
   ]
  },
  {
   "cell_type": "markdown",
   "metadata": {},
   "source": [
    "### 2. Operators\n",
    "Operator are which operate in two operand like additon, subtraction,multiplicaton, division and much more"
   ]
  },
  {
   "cell_type": "code",
   "execution_count": 3,
   "metadata": {},
   "outputs": [
    {
     "name": "stdout",
     "output_type": "stream",
     "text": [
      "5\n",
      "1\n",
      "20\n",
      "2.0\n",
      "2\n",
      "8\n",
      "1\n",
      "11.600000000000001\n"
     ]
    }
   ],
   "source": [
    "# addition operator\n",
    "print(2+3)\n",
    "# subtraction operator\n",
    "print(4-3)\n",
    "# multiplication operator\n",
    "print(4*5)\n",
    "# division operator, single / give us output in floating like 2.0 or 3.0\n",
    "print(4/2)\n",
    "# division operator, double // gives us output in integer like 2 or 3\n",
    "print(4//2)\n",
    "# power operator or exponetial operator \n",
    "print(2**3)\n",
    "# reminder operator\n",
    "print(5%2)\n",
    "\n",
    "# if i use all these operator in single function of print like below\n",
    "print(2**3/5*6+3-1)\n",
    "# In above function, now it solve operator with PEMDAS way\n",
    "# P means Paranthesis\n",
    "# E means Exponents\n",
    "# M means Multiply\n",
    "# D means Divide\n",
    "# A means Addition\n",
    "# S means subtraction\n",
    "# it work from left to right sequence for M D & A S \n"
   ]
  },
  {
   "cell_type": "markdown",
   "metadata": {},
   "source": [
    "### 3. Strings\n",
    "String that are in quotes like in single quotes ' ', double quotes \" \", or in tripple quotes ''' '''. Every thing \n",
    "that are in these quotes are print same as it is."
   ]
  },
  {
   "cell_type": "code",
   "execution_count": 6,
   "metadata": {},
   "outputs": [
    {
     "name": "stdout",
     "output_type": "stream",
     "text": [
      "Aziz Ur Rehman\n",
      "Aziz Ur Rehman\n",
      "Aziz Ur Rehman\n",
      "What's app\n",
      "I'm in bazar\n"
     ]
    }
   ],
   "source": [
    "# In single quotes\n",
    "print('Aziz Ur Rehman')\n",
    "# In double quotes\n",
    "print(\"Aziz Ur Rehman\")\n",
    "# In tripple quotes\n",
    "print('''Aziz Ur Rehman''')\n",
    "\n",
    "# in some case when you write words like below,you need single and double quotes because if you do single quote\n",
    "# with in single quote it cause error, you must do double quote in single quote or vise versa.\n",
    "print(\"What's app\")\n",
    "print(\"I'm in bazar\")"
   ]
  },
  {
   "cell_type": "markdown",
   "metadata": {},
   "source": [
    "### 4. Comments\n",
    "Comments are use for code ignorance, in simple words if you comment your code or sentence, that not show or print in output, that we do in above all sentences or codes. for comment we use # symbol"
   ]
  },
  {
   "cell_type": "code",
   "execution_count": 9,
   "metadata": {},
   "outputs": [
    {
     "name": "stdout",
     "output_type": "stream",
     "text": [
      "6\n"
     ]
    }
   ],
   "source": [
    "# comments example we use # symbole in front of sentence or code like below or in currnt sentence\n",
    "# we use # symbol for comment. Comments are very helpful, and ease to user\n",
    "#print(\"Hello world\")\n",
    "print(2+4) # this function is use to print 2+4 that is 6, shortcut for commetn is ctrl+/"
   ]
  },
  {
   "cell_type": "markdown",
   "metadata": {},
   "source": [
    "### 5. Variables\n",
    "variables are very important, these are use to store some value for later use. For example, if you want to store \n",
    "milk, you need some type of bartan or shapar etc. Same as for store our values like some text, number etc we Use\n",
    "variable that are very helpful"
   ]
  },
  {
   "cell_type": "code",
   "execution_count": 11,
   "metadata": {},
   "outputs": [
    {
     "name": "stdout",
     "output_type": "stream",
     "text": [
      "10\n",
      "Mangoes\n",
      "15\n",
      "<class 'int'>\n",
      "<class 'str'>\n"
     ]
    }
   ],
   "source": [
    "# Integer variable\n",
    "x = 10             # variable name is x and its value is 10\n",
    "print(x)           # it prints the value of x that is 10\n",
    "\n",
    "# String variable\n",
    "fruit_basket = \"Mangoes\"  # fruit_basket is variable name and it store the value Mangoes\n",
    "print(fruit_basket)       # prints the value of fruit_basket that is Mangoes\n",
    "\n",
    "# update the variable x with another number\n",
    "x = 15  # now the value of x is 15 instead of 10 because we assign it 15, code runs line by line that is why it updates\n",
    "print(x)\n",
    "\n",
    "# to find the type of variable\n",
    "print(type(x))   # It shows the type of variable x that is int type\n",
    "print(type(fruit_basket))  # It shows the type of variable fruit_basket that is string\n",
    "\n",
    "# Rules for variable naming conventions\n",
    "# 1. Variable include Letters, Number and UnderScore \n",
    "# 2. Do not start variable name with Number 2,4 or special symbols like $, # etc\n",
    "# 3. Variable should be short and descriptive\n",
    "# 4. Spaces are not allowd in variable like fruit basket\n",
    "# 5. Case sensitive (Upper case and lower case are differnt, you should use lowercase that are easy to handle)\n",
    "# 6. Do not use specia keyword function like main, del, break etc. Go to google and search keyword in python\n"
   ]
  },
  {
   "cell_type": "markdown",
   "metadata": {},
   "source": [
    "### 6. Input Variables\n",
    "Input variable are use to get input from user like us , we use input function to get input from user like \n",
    "you see in many application it get input from us like what your age or name etc"
   ]
  },
  {
   "cell_type": "code",
   "execution_count": 15,
   "metadata": {},
   "outputs": [
    {
     "name": "stdout",
     "output_type": "stream",
     "text": [
      "Hi!  aziz  Your age is  22\n"
     ]
    }
   ],
   "source": [
    "# input variables \n",
    "age = input(\"What is your age ?\") # Now in this variable age store value that input from users.\n",
    "# print(age)\n",
    "\n",
    "# more about input variables\n",
    "name = input(\"What is your name ? \")  # get input name from user\n",
    "age = input(\"What is your age ? \")    # get input age from user  \n",
    "greeting = \"Hi! \"        # simple message in string\n",
    "print(greeting, name, \" Your age is \",age)  # print our statemnt , is use for concatenation means it cobine all variables\n",
    "\n"
   ]
  },
  {
   "cell_type": "markdown",
   "metadata": {},
   "source": [
    "### 7. Conditional logic\n",
    "condtional logic are boolean means their answers in \"true or false\", \"0 or 1\", \" Yes or No\". "
   ]
  },
  {
   "cell_type": "code",
   "execution_count": 16,
   "metadata": {},
   "outputs": [
    {
     "name": "stdout",
     "output_type": "stream",
     "text": [
      "True\n",
      "True\n",
      "False\n",
      "False\n"
     ]
    }
   ],
   "source": [
    "# Condtional logic :\n",
    "# equal to                       ==\n",
    "# not equal to                   !=\n",
    "# greater than                   >\n",
    "# less than                      <\n",
    "# greater than or equal to       >=\n",
    "# less than or equal to          <=\n",
    "\n",
    "\n",
    "# is 4 equal to 4\n",
    "print(4==4)\n",
    "print(4>=3)\n",
    "print(4<=3)\n",
    "print(4!=4)\n"
   ]
  },
  {
   "cell_type": "markdown",
   "metadata": {},
   "source": [
    "### 8. Type conversion\n",
    "type conversion is used to convert one type variable into another, this is mostly used in input function, like below"
   ]
  },
  {
   "cell_type": "code",
   "execution_count": 17,
   "metadata": {},
   "outputs": [
    {
     "name": "stdout",
     "output_type": "stream",
     "text": [
      "202.0 type of x <class 'float'>\n",
      "22 <class 'str'>\n",
      "22 <class 'int'>\n"
     ]
    }
   ],
   "source": [
    "# conversion \n",
    "x= 10       # int\n",
    "y = 20.2    # float\n",
    "z =\"aziz\"   # string\n",
    "\n",
    "# implicit type conversion\n",
    "x = x*y    # if you multipy int variable with float variable, the answer is float variable,that means float has priority\n",
    "print(x, \"type of x\", type(x))\n",
    "\n",
    "# explicit type conversion\n",
    "age = input(\"What is your age ? \")  #By default input function has string type, if you enter number or float or string\n",
    "print(age, type(age))\n",
    "\n",
    "# to conver string type into int type we use explicit type conversion that is:\n",
    "print(age, type(int(age)))  \n",
    "\n"
   ]
  },
  {
   "cell_type": "markdown",
   "metadata": {},
   "source": [
    "### 9. if elif and else statemtent\n",
    "if staement is used for check condtion for example if cloud is on sky then rain, if sky are clear than not rain"
   ]
  },
  {
   "cell_type": "code",
   "execution_count": 18,
   "metadata": {},
   "outputs": [
    {
     "name": "stdout",
     "output_type": "stream",
     "text": [
      "you are teen age\n"
     ]
    }
   ],
   "source": [
    "# variable\n",
    "teen_age = 18\n",
    "\n",
    "# if statement to check a person is teenage above or below or exact teenage\n",
    "if teen_age > 18:    # check condtion if variable is greater than 18\n",
    "    print(\"You are above teen age\")  # it print if teen_age variable is greater than 18\n",
    "\n",
    "if teen_age > 18:    # check condtion if variable is less than 18\n",
    "    print(\"You are below teen age\")   # it print if teen_age variable is less than 18\n",
    "    \n",
    "else:                                 # if both above condition not satisfied, then it print else\n",
    "    print(\"you are teen age\")          # it print if teen_age variable is equal to 18"
   ]
  },
  {
   "cell_type": "markdown",
   "metadata": {},
   "source": [
    "### 10. Function\n",
    "function are block of code and ease for use and use to reduce redudancy or duplication"
   ]
  },
  {
   "cell_type": "code",
   "execution_count": 28,
   "metadata": {},
   "outputs": [
    {
     "name": "stdout",
     "output_type": "stream",
     "text": [
      "Welcome to python\n",
      "Welcome to python\n",
      "Welcome to python\n",
      "welcome to python\n",
      "welcome to python\n",
      "welcome to python\n",
      "welcome to python\n",
      "welcome to python\n",
      "welcome to python\n",
      "aziz\n",
      "aziz\n",
      "aziz\n"
     ]
    }
   ],
   "source": [
    "# function with many ways\n",
    "# 1\n",
    "def aziz():  # aziz() funciton name and def is use for defining\n",
    "    print(\"Welcome to python\")\n",
    "    print(\"Welcome to python\")\n",
    "    print(\"Welcome to python\")\n",
    "\n",
    "aziz()  # calling a function\n",
    "\n",
    "# 2\n",
    "def aziz():  # aziz() funciton name and def is use for defining\n",
    "    text = \"welcome to python\"\n",
    "    print(text)\n",
    "    print(text)\n",
    "    print(text)\n",
    "\n",
    "aziz()  # calling a function\n",
    "\n",
    "\n",
    "# 3\n",
    "def aziz(text):  # aziz() funciton name and def is use for defining\n",
    "    print(text)\n",
    "    print(text)\n",
    "    print(text)\n",
    "\n",
    "aziz(\"welcome to python\")  # calling a function\n",
    "\n",
    "# function are best if you use code with duplicatio like above, if i change \"welcome to python\" with othe statement\n",
    "# or add other sentence then we change once in statment and it change whole places for example in below\n",
    "\n",
    "def aziz(text):  # aziz() funciton name and def is use for defining\n",
    "    print(text)\n",
    "    print(text)\n",
    "    print(text)\n",
    "\n",
    "aziz(\"aziz\")  # calling a function\n",
    "\n",
    "# i change it to aziz\n"
   ]
  },
  {
   "cell_type": "markdown",
   "metadata": {},
   "source": [
    "### 11. Loops\n",
    "loop are used for repetion means one thing you repeat in loop or increment in value one by one"
   ]
  },
  {
   "cell_type": "code",
   "execution_count": 3,
   "metadata": {},
   "outputs": [
    {
     "name": "stdout",
     "output_type": "stream",
     "text": [
      "0\n",
      "1\n",
      "2\n",
      "3\n",
      "4\n",
      "5\n",
      "5\n",
      "6\n",
      "7\n",
      "8\n",
      "9\n",
      "Monday\n",
      "Tuseday\n",
      "Wednesday\n",
      "Thursday\n",
      "Saturday\n",
      "Sunday\n"
     ]
    }
   ],
   "source": [
    "# 1. while loop\n",
    "x=0\n",
    "while (x<=5):\n",
    "    print(x)\n",
    "    x=x+1    # increment by 1\n",
    "\n",
    "# 2. for loop\n",
    "for x in range(5,10):\n",
    "    print(x)\n",
    "\n",
    "# 3 array are not loop but is store same data value type\n",
    "day = [\"Monday\", \"Tuseday\", \"Wednesday\", \"Thursday\", \"Friday\", \"Saturday\", \"Sunday\"]\n",
    "\n",
    "for d in day:\n",
    "    # if (d == \"Thursday\"):break # loop stop\n",
    "    if (d == \"Friday\"): continue # skip d\n",
    "    print(d)\n",
    "\n"
   ]
  },
  {
   "cell_type": "markdown",
   "metadata": {},
   "source": [
    "### 12. Import libraries\n",
    "libraries are pre made code that develop for us, we only use function to import in our code with librareies"
   ]
  },
  {
   "cell_type": "code",
   "execution_count": 8,
   "metadata": {},
   "outputs": [
    {
     "name": "stdout",
     "output_type": "stream",
     "text": [
      "The value of pi :  3.141592653589793\n",
      "The mean of x is :  157\n"
     ]
    }
   ],
   "source": [
    "# import math library to import math functions\n",
    "import math\n",
    "\n",
    "print(\"The value of pi : \",math.pi)\n",
    "\n",
    "# import statics libray \n",
    "import statistics\n",
    "\n",
    "x = [34 + 56 +67]  \n",
    "print(\"The mean of x is : \",statistics.mean(x)) # to find mean value"
   ]
  },
  {
   "cell_type": "markdown",
   "metadata": {},
   "source": [
    "### 13. troubleshoot any problem\n",
    "troubleshoot is very important to find error in your code there are many types of errors"
   ]
  },
  {
   "cell_type": "code",
   "execution_count": null,
   "metadata": {},
   "outputs": [],
   "source": [
    "# syntax error\n",
    "# print(Hello) # forgot quotation around string\n",
    "\n",
    "# runtime error\n",
    "# print(25/0) # can not divide 25 by 0\n",
    "\n",
    "# sementic error\n",
    "# name = \"aziz\"  \n",
    "# print(\"Hi name\") # forgot that variable outside the quotation\n",
    "\n",
    "# + is use for concatenation between text if you not need space, we use , for space between text or two statements"
   ]
  }
 ],
 "metadata": {
  "interpreter": {
   "hash": "28ebe22b74324164291b208d72b2f6129daa2b086b942895fb83e22ed0e8c453"
  },
  "kernelspec": {
   "display_name": "Python 3.9.7 ('base')",
   "language": "python",
   "name": "python3"
  },
  "language_info": {
   "codemirror_mode": {
    "name": "ipython",
    "version": 3
   },
   "file_extension": ".py",
   "mimetype": "text/x-python",
   "name": "python",
   "nbconvert_exporter": "python",
   "pygments_lexer": "ipython3",
   "version": "3.9.7"
  },
  "orig_nbformat": 4
 },
 "nbformat": 4,
 "nbformat_minor": 2
}
